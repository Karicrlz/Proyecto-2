{
 "cells": [
  {
   "cell_type": "markdown",
   "metadata": {},
   "source": [
    "# ¡Hola Karina!\n",
    "\n",
    "Mi nombre es Ezequiel Ferrario, soy code reviewer en Tripleten y tengo el agrado de revisar el proyecto que entregaste.\n",
    "\n",
    "Para simular la dinámica de un ambiente de trabajo, si veo algún error, en primer instancia solo los señalaré, dándote la oportunidad de encontrarlos y corregirlos por tu cuenta. En un trabajo real, el líder de tu equipo hará una dinámica similar. En caso de que no puedas resolver la tarea, te daré una información más precisa en la próxima revisión.\n",
    "\n",
    "Encontrarás mis comentarios más abajo - **por favor, no los muevas, no los modifiques ni los borres**.\n",
    "\n",
    "¿Cómo lo voy a hacer? Voy a leer detenidamente cada una de las implementaciones que has llevado a cabo para cumplir con lo solicitado. Verás los comentarios de esta forma:\n",
    "\n",
    "<div class=\"alert alert-block alert-success\">\n",
    "<b>Comentario del revisor</b> <a class=\"tocSkip\"></a>\n",
    "\n",
    "Si todo está perfecto.\n",
    "</div>\n",
    "\n",
    "\n",
    "<div class=\"alert alert-block alert-warning\">\n",
    "<b>Comentario del revisor</b> <a class=\"tocSkip\"></a>\n",
    "\n",
    "Si tu código está bien pero se puede mejorar o hay algún detalle que le hace falta. Se aceptan uno o dos comentarios de este tipo en el borrador, pero si hay más, deberá hacer las correcciones. Es como una tarea de prueba al solicitar un trabajo: muchos pequeños errores pueden hacer que un candidato sea rechazado.\n",
    "</div>\n",
    "\n",
    "<div class=\"alert alert-block alert-danger\">\n",
    "\n",
    "<b>Comentario del revisor</b> <a class=\"tocSkip\"></a>\n",
    "\n",
    "Si de pronto hace falta algo o existe algún problema con tu código o conclusiones.\n",
    "</div>\n",
    "\n",
    "Puedes responderme de esta forma:\n",
    "\n",
    "<div class=\"alert alert-block alert-info\">\n",
    "<b>Respuesta del estudiante</b> <a class=\"tocSkip\"></a>\n",
    "\n",
    "Hola, muchas gracias por tus comentarios y la revisión.\n",
    "</div>\n",
    "\n",
    "¡Empecemos!"
   ]
  },
  {
   "cell_type": "markdown",
   "metadata": {},
   "source": [
    "\n",
    "---------------\n",
    "\n",
    "<div class=\"alert alert-block alert-danger\">\n",
    "<b>Comentario general #1</b> <a class=\"tocSkip\"></a>\n",
    "\n",
    "Karina, hiciste un muy buen proyecto donde abarcaste todos los ejercicios de muy buena manera.\n",
    "\n",
    "Me gusto como hiciste el ejercicio del try-except y el resto esta muy bien planteado.\n",
    "\n",
    "Te deje minimos detalles por corregir.\n",
    "\n",
    "Quedo a la espera de la correccion, saludos.\n",
    "\n",
    "\n",
    "</div>\n",
    "\n",
    "\n",
    "<div class=\"alert alert-block alert-success\">\n",
    "<b>Comentario general  #2</b> <a class=\"tocSkip\"></a>\n",
    "\n",
    "Karina, todas las correcciones que hiciste fueron muy buenas y asi finalizas un muy buen proyecto.\n",
    "    \n",
    " Me gusto mucho como abordaste el ejercicio 11 donde entendiste como dejar fuera la parte del append.\n",
    "    \n",
    "  Dicho esto, el proyecto queda **aprobado**.\n",
    "    \n",
    "    \n",
    " Exitos en lo que viene, saludos.\n",
    "\n",
    "\n",
    "\n",
    "</div>\n",
    "\n",
    "\n",
    "\n",
    "-------------------"
   ]
  },
  {
   "cell_type": "markdown",
   "metadata": {
    "id": "jrvwNQJi0P9l"
   },
   "source": [
    "Una empresa de comercio electrónico, Store 1, recientemente comenzó a recopilar datos sobre sus clientes. El objetivo final de Store 1 es comprender mejor el comportamiento de sus clientes y tomar decisiones basadas en datos para mejorar su experiencia online.\n",
    "\n",
    "Como parte del equipo de análisis, tu primera tarea es evaluar la calidad de una muestra de datos recopilados y prepararla para futuros análisis."
   ]
  },
  {
   "cell_type": "markdown",
   "metadata": {
    "id": "2utuFkVZ0P9p"
   },
   "source": [
    "# Cuestionario\n",
    "\n",
    "Store 1 tiene como objetivo garantizar la coherencia en la recopilación de datos. Como parte de esta iniciativa, se debe evaluar la calidad de los datos recopilados sobre los usuarios y las usuarias. Te han pedido que revises los datos recopilados y propongas cambios. A continuación verás datos sobre un usuario o una usuaria en particular; revisa los datos e identifica cualquier posible problema."
   ]
  },
  {
   "cell_type": "code",
   "execution_count": null,
   "metadata": {
    "id": "v4ldWAes0P9q"
   },
   "outputs": [],
   "source": [
    "user_id = '32415'\n",
    "user_name = ' mike_reed '\n",
    "user_age = 32.0\n",
    "fav_categories = ['ELECTRONICS', 'SPORT', 'BOOKS']"
   ]
  },
  {
   "cell_type": "markdown",
   "metadata": {
    "id": "v5J9NgXf0P9r"
   },
   "source": [
    "**Opciones:**\n",
    "\n",
    "1. El tipo de datos para `user_id` debe cambiarse de una cadena a un número entero.\n",
    "    \n",
    "2. La variable `user_name` contiene una cadena que tiene espacios innecesarios y un guion bajo entre el nombre y el apellido.\n",
    "    \n",
    "3. El tipo de datos de `user_age` es incorrecto.\n",
    "    \n",
    "4. La lista `fav_categories` contiene cadenas en mayúsculas. En su lugar, deberíamos convertir los valores de la lista a minúsculas."
   ]
  },
  {
   "cell_type": "markdown",
   "metadata": {
    "id": "dZRSLSQV0P9s"
   },
   "source": [
    "Escribe en la celda Markdown a continuación el número de las opciones que has identificado como problemas. Si has identificado varios problemas, sepáralos con comas. Por ejemplo, si piensas que los números 1 y 3 son incorrectos, escribe 1, 3."
   ]
  },
  {
   "cell_type": "markdown",
   "metadata": {
    "id": "iCEVoi_A0P9s"
   },
   "source": [
    "**Escribe tu respuesta y explica tu argumentación:__2;Tiene espacios innecesarios al inicio y al final del nombre. 3; El tipo de dato se encuentra en float, no es necesario debido a que la edad no se usan decimales, por lo que usar el formato \"int\" queda mejor.__ **\n"
   ]
  },
  {
   "cell_type": "markdown",
   "metadata": {},
   "source": [
    "<div class=\"alert alert-block alert-warning\">\n",
    "\n",
    "<b>Comentario del revisor</b> <a class=\"tocSkip\"></a>\n",
    "\n",
    "Muy bien\n",
    "\n",
    "- Con respecto al punto 4 es correcta (representa un error), ya que no encontramos razon para mantener los valores de la lista en mayúsculas.\n",
    "Las buenas practicas indican homogeneidad del dataset para que nuestras búsquedas y tratamientos de los datos sean uniformes. Tener todo en minúsculas o mayúsculas hara que sea mucho mas facil navegar o encontrar lo que necesitemos de la lista.</div>"
   ]
  },
  {
   "cell_type": "markdown",
   "metadata": {
    "id": "qKAtWDqu0P9t"
   },
   "source": [
    "# Ejercicio 1\n",
    "\n",
    "Vamos a implementar los cambios que identificamos. Primero, necesitamos corregir los problemas de la variable `user_name`. Como vimos, tiene espacios innecesarios y un guion bajo como separador entre el nombre y el apellido; tu objetivo es eliminar los espacios y luego reemplazar el guion bajo con el espacio."
   ]
  },
  {
   "cell_type": "code",
   "execution_count": 3,
   "metadata": {},
   "outputs": [
    {
     "name": "stdout",
     "output_type": "stream",
     "text": [
      "mike reed\n"
     ]
    }
   ],
   "source": [
    "user_name = ' mike_reed '\n",
    "user_name = user_name.strip()# eliminar los espacios en la cadena original\n",
    "user_name = user_name.replace ('_',' ')# reemplazar el guion bajo con el espacio. \n",
    "\n",
    "print(user_name) \n"
   ]
  },
  {
   "cell_type": "markdown",
   "metadata": {},
   "source": [
    "<div class=\"alert alert-block alert-warning\">\n",
    "\n",
    "<b>Comentario del revisor</b> <a class=\"tocSkip\"></a>\n",
    "\n",
    "Esta muy bien, para no perder la forma de string podrias utilizar el metodo strip() para reducir los espacios y luego el replace. Te ahorraras ademas una linea de codigo.  </div>\n",
    "\n",
    "<div class=\"alert alert-block alert-success\">\n",
    "<b>Comentario del revisor #2</b> <a class=\"tocSkip\"></a>\n",
    "\n",
    "Corregido, muy bien.</div>"
   ]
  },
  {
   "cell_type": "markdown",
   "metadata": {
    "id": "g4YyN4WK0P9t"
   },
   "source": [
    "# Ejercicio 2\n",
    "\n",
    "Luego, debemos dividir el `user_name` (nombre de usuario o usuaria) actualizado en dos subcadenas para obtener una lista que contenga dos valores: la cadena para el nombre y la cadena para el apellido."
   ]
  },
  {
   "cell_type": "code",
   "execution_count": 9,
   "metadata": {
    "id": "Q1L1ARfY0P9u"
   },
   "outputs": [
    {
     "name": "stdout",
     "output_type": "stream",
     "text": [
      "['mike', 'reed']\n"
     ]
    }
   ],
   "source": [
    "user_name = 'mike reed'\n",
    "name_split = user_name.split()# divide aquí el string user_name\n",
    "\n",
    "print(name_split)"
   ]
  },
  {
   "cell_type": "markdown",
   "metadata": {},
   "source": [
    "<div class=\"alert alert-block alert-success\">\n",
    "\n",
    "<b>Comentario del revisor</b> <a class=\"tocSkip\"></a>\n",
    "\n",
    "Perfecto. </div>"
   ]
  },
  {
   "cell_type": "markdown",
   "metadata": {
    "id": "-VWZkZtc0P9u"
   },
   "source": [
    "# Ejercicio 3\n",
    "\n",
    "¡Genial! Ahora debemos trabajar con la variable `user_age`. Como ya mencionamos, esta tiene un tipo de datos incorrecto. Arreglemos este problema transformando el tipo de datos y mostrando el resultado final."
   ]
  },
  {
   "cell_type": "code",
   "execution_count": 15,
   "metadata": {
    "id": "WPpidP470P9u"
   },
   "outputs": [
    {
     "name": "stdout",
     "output_type": "stream",
     "text": [
      "32\n",
      "<class 'int'>\n"
     ]
    }
   ],
   "source": [
    "user_age = 32.0\n",
    "user_age = int(user_age)# cambia el tipo de datos para la edad de un usuario o usuaria\n",
    "print(user_age)\n",
    "print(type(user_age))"
   ]
  },
  {
   "cell_type": "markdown",
   "metadata": {
    "id": "xdfgaKd60P9v"
   },
   "source": [
    "# Ejercicio 4\n",
    "\n",
    "Como sabemos, los datos no siempre son perfectos. Debemos considerar escenarios en los que el valor de `user_age` no se pueda convertir en un número entero. Para evitar que nuestro sistema se bloquee, debemos tomar medidas con anticipación\n",
    "\n",
    "Escribe un código que intente convertir la variable `user_age` en un número entero y asigna el valor transformado a `user_age_int`. Si el intento falla, mostramos un mensaje pidiendo al usuario o la usuaria que proporcione su edad como un valor numérico con el mensaje: `Please provide your age as a numerical value.` (Proporcione su edad como un valor numérico.)"
   ]
  },
  {
   "cell_type": "code",
   "execution_count": 68,
   "metadata": {
    "id": "duI5zn_O0P9v"
   },
   "outputs": [
    {
     "name": "stdout",
     "output_type": "stream",
     "text": [
      "Please provide your age as a numerical value.\n"
     ]
    }
   ],
   "source": [
    "user_age = 'treinta y dos'# aquí está la variable que almacena la edad como un string.\n",
    "\n",
    "try:\n",
    "    user_age = int(userage)\n",
    "    print(user_age)\n",
    "except: \n",
    "    print('Please provide your age as a numerical value.')\n",
    "    \n",
    "\n",
    "\n",
    "# escribe un código que intente transformar user_age en un entero y si falla, imprime el mensaje especificado"
   ]
  },
  {
   "cell_type": "markdown",
   "metadata": {},
   "source": [
    "<div class=\"alert alert-block alert-success\">\n",
    "\n",
    "<b>Comentario del revisor</b> <a class=\"tocSkip\"></a>\n",
    "\n",
    "Bien utilizado el **try-except**. </div>"
   ]
  },
  {
   "cell_type": "markdown",
   "metadata": {
    "id": "Q04i6KQH0P9v"
   },
   "source": [
    "# Ejercicio 5\n",
    "\n",
    "Finalmente, considera que todas las categorías favoritas se almacenan en mayúsculas. Para llenar una nueva lista llamada `fav_categories_low` con las mismas categorías, pero en minúsculas, itera los valores en la lista `fav_categories`, modifícalos y agrega los nuevos valores a la lista `fav_categories_low`. Como siempre, muestra el resultado final."
   ]
  },
  {
   "cell_type": "code",
   "execution_count": 11,
   "metadata": {
    "id": "AtQg6ie10P9v"
   },
   "outputs": [
    {
     "name": "stdout",
     "output_type": "stream",
     "text": [
      "['electronics', 'sport', 'books']\n"
     ]
    }
   ],
   "source": [
    "fav_categories = ['ELECTRONICS', 'SPORT', 'BOOKS']\n",
    "fav_categories_low = []\n",
    "\n",
    "for category in fav_categories:\n",
    "    fav_categories_low.append(category.lower())\n",
    "\n",
    "# no elimines la siguiente declaración print\n",
    "print(fav_categories_low)\n",
    "\n",
    "\n"
   ]
  },
  {
   "cell_type": "markdown",
   "metadata": {},
   "source": [
    "<div class=\"alert alert-block alert-success\">\n",
    "\n",
    "<b>Comentario del revisor</b> <a class=\"tocSkip\"></a>\n",
    "\n",
    "Muy bien. </div>"
   ]
  },
  {
   "cell_type": "markdown",
   "metadata": {
    "id": "w8J0RSee0P9w"
   },
   "source": [
    "# Ejercicio 6\n",
    "\n",
    "Hemos obtenido información adicional sobre los hábitos de gasto de nuestros usuarios y usuarias, incluido el importe gastado en cada una de sus categorías favoritas. La gerencia está interesada en las siguientes métricas:\n",
    "\n",
    "- Importe total gastado por el usuario o la usuaria.\n",
    "- Importe mínimo gastado.\n",
    "- Importe máximo gastado.\n",
    "\n",
    "Vamos a calcular estos valores y mostrarlos en la pantalla:"
   ]
  },
  {
   "cell_type": "code",
   "execution_count": 14,
   "metadata": {
    "id": "BbhBAmcZ0P9w",
    "scrolled": true
   },
   "outputs": [
    {
     "name": "stdout",
     "output_type": "stream",
     "text": [
      "1280\n",
      "894\n",
      "173\n"
     ]
    }
   ],
   "source": [
    "fav_categories_low = ['electronics', 'sport', 'books']\n",
    "spendings_per_category = [894, 213, 173]\n",
    "\n",
    "total_amount = sum(spendings_per_category) # escribe tu código aquí\n",
    "max_amount = max(spendings_per_category) # escribe tu código aquí\n",
    "min_amount = min(spendings_per_category) #escribe tu código aquí\n",
    "\n",
    "# no elimines la siguiente declaración print\n",
    "print(total_amount)\n",
    "print(max_amount)\n",
    "print(min_amount)"
   ]
  },
  {
   "cell_type": "markdown",
   "metadata": {
    "id": "hyPGzOt60P9w"
   },
   "source": [
    "# Ejercicio 7\n",
    "\n",
    "La empresa quiere ofrecer descuentos a sus clientes leales. Los clientes y las clientas que realizan compras por un importe total mayor a $1500 se consideran leales y recibirán un descuento.\n",
    "\n",
    "Nuestro objetivo es crear un bucle `while` que compruebe el importe total gastado y se detenga al alcanzarlo. Para simular nuevas compras, la variable `new_purchase` genera un número entre 30 y 80 en cada iteración del bucle. Esto representa el importe de dinero gastado en una nueva compra y es lo que hay que sumar al total.\n",
    "\n",
    "Una vez que se alcance el importe objetivo y se termine el bucle `while`, se mostrará la cantidad final."
   ]
  },
  {
   "cell_type": "code",
   "execution_count": 2,
   "metadata": {
    "id": "FmpTfK7C0P9x"
   },
   "outputs": [
    {
     "name": "stdout",
     "output_type": "stream",
     "text": [
      "1533\n"
     ]
    }
   ],
   "source": [
    "from random import randint\n",
    "\n",
    "total_amount_spent = 1280\n",
    "target_amount = 1500\n",
    "\n",
    "while total_amount_spent < target_amount: # escribe tu código aquí\n",
    "\tnew_purchase = randint(30, 80) # generamos un número aleatorio de 30 a 80\n",
    "\ttotal_amount_spent += new_purchase# escribe tu código aquí\n",
    "\n",
    "\n",
    "print(total_amount_spent)"
   ]
  },
  {
   "cell_type": "markdown",
   "metadata": {},
   "source": [
    "<div class=\"alert alert-block alert-danger\">\n",
    "<b>Comentario del revisor</b> <a class=\"tocSkip\"></a>\n",
    "\n",
    "Cuidado, nosotros necesitamos es continuar el bucle hasta que el importe total gastado supere o alce el objetivo de $1500.\n",
    "Por lo que el bucle continua mientras el monto total sea menor al target.\n",
    "\n",
    "En este caso estas haciendo que se ejecute MIENTRAS el total gastado sea mayor a 1500 (cosa que nunca iba a pasar), por lo que terminas quedandote solo con el valor original.\n",
    "\n",
    "\n",
    "</div>\n",
    "\n",
    "<div class=\"alert alert-block alert-success\">\n",
    "<b>Comentario del revisor  #2</b> <a class=\"tocSkip\"></a>\n",
    "\n",
    "Corregido.</div>"
   ]
  },
  {
   "cell_type": "markdown",
   "metadata": {},
   "source": [
    "Muchas gracias por la revisión"
   ]
  },
  {
   "cell_type": "markdown",
   "metadata": {
    "id": "e9j2dOo60P9x"
   },
   "source": [
    "# Ejercicio 8\n",
    "\n",
    "Ahora tenemos toda la información sobre un cliente o una clienta de la forma que queremos que sea. La gerencia de una empresa nos pidió proponer una forma de resumir toda la información sobre un usuario o una usuaria. Tu objetivo es crear una cadena formateada que utilice información de las variables `user_id`, `user_name` y `user_age`.\n",
    "\n",
    "Esta es la cadena final que queremos crear: `User 32415 is mike who is 32 years old.` (El usuario 32415 es Mike, quien tiene 32 años)."
   ]
  },
  {
   "cell_type": "code",
   "execution_count": 3,
   "metadata": {
    "id": "2dzhjYbm0P9x"
   },
   "outputs": [
    {
     "name": "stdout",
     "output_type": "stream",
     "text": [
      "User 32415 is mike who is 32 years old.\n"
     ]
    }
   ],
   "source": [
    "user_id = '32415'\n",
    "user_name = ['mike', 'reed']\n",
    "user_age = 32\n",
    "\n",
    "user_info = \"User {} is {} who is {} years old.\".format(user_id, user_name [0], user_age) #escribe tu código aquí\n",
    "\n",
    "# no elimines la siguiente declaración print\n",
    "print(user_info)"
   ]
  },
  {
   "cell_type": "markdown",
   "metadata": {},
   "source": [
    "\n",
    "<div class=\"alert alert-block alert-danger\">\n",
    "<b>Comentario del revisor</b> <a class=\"tocSkip\"></a>\n",
    "\n",
    "Esta bien planteado el ejercicio pero en este caso queremos que muestre solo el nombre `mike` a traves de la variable `user_name`. Para eso llama al indice correspondiente para acaparar solo el nombre.\n",
    "</div>\n",
    "\n",
    "<div class=\"alert alert-block alert-success\">\n",
    "<b>Comentario del revisor  #2</b> <a class=\"tocSkip\"></a>\n",
    "\n",
    "Corregido.</div>"
   ]
  },
  {
   "cell_type": "markdown",
   "metadata": {
    "id": "hJ38hJYU0P9x"
   },
   "source": [
    "Como sabes, las empresas recopilan y almacenan datos de una forma particular. Store 1 desea almacenar toda la información sobre sus clientes y clientas en una tabla.\n",
    "\n",
    "| user_id | user_name | user_age | purchase_category | spending_per_category |\n",
    "| --- | --- | --- | --- | --- |\n",
    "| '32415' | 'mike', 'reed' | 32 | 'electronics', 'sport', 'books' | 894, 213, 173 |\n",
    "| '31980' | 'kate', 'morgan' | 24 | 'clothes', 'shoes' | 439, 390 |\n",
    "\n",
    "En términos técnicos, una tabla es simplemente una lista anidada que contiene una sublista para cada usuario o usuaria.\n",
    "\n",
    "Store 1 ha creado una tabla de este tipo para sus usuarios y usuarias. Se almacena en la variable `users`. Cada sublista contiene el ID del usuario o la usuaria, nombre y apellido, edad, categorías favoritas y el importe gastado en cada categoría."
   ]
  },
  {
   "cell_type": "markdown",
   "metadata": {
    "id": "J7IXD3Zv0P9x"
   },
   "source": [
    "# Ejercicio 9\n",
    "\n",
    "Para calcular los ingresos de la empresa, sigue estos pasos.\n",
    "\n",
    "1. Utiliza `for` para iterar sobre la lista `users`.\n",
    "2. Extrae la lista de gastos de cada usuario o usuaria y suma los valores.\n",
    "3. Actualiza el valor de los ingresos con el total de cada usuario o usuaria.\n",
    "\n",
    "Así obtendrás los ingresos totales de la empresa que mostrarás en la pantalla al final."
   ]
  },
  {
   "cell_type": "code",
   "execution_count": 2,
   "metadata": {
    "id": "d8jeNWXQ0P9y"
   },
   "outputs": [
    {
     "name": "stdout",
     "output_type": "stream",
     "text": [
      "2109\n"
     ]
    }
   ],
   "source": [
    "users = [\n",
    "\t  # este es el inicio de la primera sublista\n",
    "    ['32415', ['mike', 'reed'], 32, ['electronics', 'sport', 'books'],\n",
    "        [894, 213, 173]\n",
    "    ], # este es el final de la primera sublista\n",
    "\n",
    "    # este es el inicio de la segunda sublista\n",
    "    ['31980', ['kate', 'morgan'], 24, ['clothes', 'shoes'],\n",
    "        [439, 390]\n",
    "    ] # este es el final de la segunda sublista\n",
    "]\n",
    "\n",
    "revenue = 0\n",
    "\n",
    "for user in users:\n",
    "\tspendings_list = sum(user[4]) # extrae la lista de gastos de cada usuario o usuaria y suma los valores\n",
    "\ttotal_spendings = spendings_list # suma los gastos de todas las categorías para obtener el total de un usuario o una usuaria en particular\n",
    "\trevenue += total_spendings# actualiza los ingresos\n",
    "\n",
    "# no elimines la siguiente declaración print\n",
    "print(revenue)"
   ]
  },
  {
   "cell_type": "markdown",
   "metadata": {},
   "source": [
    "<div class=\"alert alert-block alert-success\">\n",
    "<b>Comentario del revisor</b> <a class=\"tocSkip\"></a>\n",
    "\n",
    "Excelente.</div>"
   ]
  },
  {
   "cell_type": "markdown",
   "metadata": {
    "id": "wR0om7Tk0P9y"
   },
   "source": [
    "# Ejercicio 10\n",
    "\n",
    "Recorre la lista de usuarios y usuarias que te hemos proporcionado y muestra los nombres de la clientela menor de 30 años."
   ]
  },
  {
   "cell_type": "code",
   "execution_count": 5,
   "metadata": {
    "id": "KVdthJm70P9y"
   },
   "outputs": [
    {
     "name": "stdout",
     "output_type": "stream",
     "text": [
      "kate\n",
      "samantha\n",
      "emily\n",
      "jose\n",
      "james\n"
     ]
    }
   ],
   "source": [
    "users = [\n",
    "    ['32415', ['mike', 'reed'], 32, ['electronics', 'sport', 'books'],\n",
    "     [894, 213, 173]],\n",
    "    ['31980', ['kate', 'morgan'], 24, ['clothes', 'books'], [439,\n",
    "     390]],\n",
    "    ['32156', ['john', 'doe'], 37, ['electronics', 'home', 'food'],\n",
    "     [459, 120, 99]],\n",
    "    ['32761', ['samantha', 'smith'], 29, ['clothes', 'electronics',\n",
    "     'beauty'], [299, 679, 85]],\n",
    "    ['32984', ['david', 'white'], 41, ['books', 'home', 'sport'], [234,\n",
    "     329, 243]],\n",
    "    ['33001', ['emily', 'brown'], 26, ['beauty', 'home', 'food'], [213,\n",
    "     659, 79]],\n",
    "    ['33767', ['maria', 'garcia'], 33, ['clothes', 'food', 'beauty'],\n",
    "     [499, 189, 63]],\n",
    "    ['33912', ['jose', 'martinez'], 22, ['sport', 'electronics', 'home'\n",
    "     ], [259, 549, 109]],\n",
    "    ['34009', ['lisa', 'wilson'], 35, ['home', 'books', 'clothes'],\n",
    "     [329, 189, 329]],\n",
    "    ['34278', ['james', 'lee'], 28, ['beauty', 'clothes', 'electronics'\n",
    "     ], [189, 299, 579]],\n",
    "    ]\n",
    "\n",
    "\n",
    "\n",
    "for client in users:\n",
    "   if client[2]<30:\n",
    "     \n",
    "    print(client [1][0]) # escribe tu código aquí"
   ]
  },
  {
   "cell_type": "markdown",
   "metadata": {},
   "source": [
    "<div class=\"alert alert-block alert-danger\">\n",
    "<b>Comentario del revisor</b> <a class=\"tocSkip\"></a>\n",
    "\n",
    "Esta muy bien planteado, recorda que solo queremos extraer el **nombre**.</div>\n",
    "\n",
    "<div class=\"alert alert-block alert-success\">\n",
    "<b>Comentario del revisor  #2</b> <a class=\"tocSkip\"></a>\n",
    "\n",
    "Corregido.</div>"
   ]
  },
  {
   "cell_type": "markdown",
   "metadata": {
    "id": "LBHWQenm0P9y"
   },
   "source": [
    "# Ejercicio 11\n",
    "\n",
    "Juntemos las tareas 9 y 10 e imprimamos los nombres de los usuarios y las usuarias que tengan menos de 30 años y un gasto total superior a 1000 dólares."
   ]
  },
  {
   "cell_type": "code",
   "execution_count": 8,
   "metadata": {
    "id": "HaQNXS-V0P9z"
   },
   "outputs": [
    {
     "name": "stdout",
     "output_type": "stream",
     "text": [
      "samantha\n",
      "james\n"
     ]
    }
   ],
   "source": [
    "users = [\n",
    "    ['32415', ['mike', 'reed'], 32, ['electronics', 'sport', 'books'],\n",
    "     [894, 213, 173]],\n",
    "    ['31980', ['kate', 'morgan'], 24, ['clothes', 'books'], [439,\n",
    "     390]],\n",
    "    ['32156', ['john', 'doe'], 37, ['electronics', 'home', 'food'],\n",
    "     [459, 120, 99]],\n",
    "    ['32761', ['samantha', 'smith'], 29, ['clothes', 'electronics',\n",
    "     'beauty'], [299, 679, 85]],\n",
    "    ['32984', ['david', 'white'], 41, ['books', 'home', 'sport'], [234,\n",
    "     329, 243]],\n",
    "    ['33001', ['emily', 'brown'], 26, ['beauty', 'home', 'food'], [213,\n",
    "     659, 79]],\n",
    "    ['33767', ['maria', 'garcia'], 33, ['clothes', 'food', 'beauty'],\n",
    "     [499, 189, 63]],\n",
    "    ['33912', ['jose', 'martinez'], 22, ['sport', 'electronics', 'home'\n",
    "     ], [259, 549, 109]],\n",
    "    ['34009', ['lisa', 'wilson'], 35, ['home', 'books', 'clothes'],\n",
    "     [329, 189, 329]],\n",
    "    ['34278', ['james', 'lee'], 28, ['beauty', 'clothes', 'electronics'\n",
    "     ], [189, 299, 579]],\n",
    "    ]\n",
    "\n",
    "\n",
    "for client in users:\n",
    "    if client [2]<30 and sum(client [4])>1000:\n",
    "         print(client [1][0])\n",
    "    # escribe tu código aquí"
   ]
  },
  {
   "cell_type": "markdown",
   "metadata": {},
   "source": [
    "<div class=\"alert alert-block alert-danger\">\n",
    "<b>Comentario del revisor</b> <a class=\"tocSkip\"></a>\n",
    "\n",
    "Esta muy bien planteado, recorda que solo queremos extraer el **nombre**.</div>\n",
    "\n",
    "<div class=\"alert alert-block alert-warning\">\n",
    "<b>Comentario del revisor</b> <a class=\"tocSkip\"></a>\n",
    "\n",
    "\n",
    "Nuestro objetivo es **mostrar** los nombres de los clientes de menos de 30 años y poseean un gasto superior a 1000. Por lo que una opcion mas eficiente seria solo mostrarlo y no agregar una nueva lista para mostrar.\n",
    "Imprimir directamente los resultados es preferible ya que es más eficiente en uso de memoria, el código es más simple, se utilizan menos recursos y mejora la legibilidad, evitando la creación de una lista separada.\n",
    "Para esto deberias manterner el if y luego realizar el print de lo que quieras mostrar (Indicando la posicion del nombre).\n",
    "\n",
    "</div>\n",
    "\n",
    "<div class=\"alert alert-block alert-success\">\n",
    "<b>Comentario del revisor  #2</b> <a class=\"tocSkip\"></a>\n",
    "\n",
    "Corregidoambos, perfecto.</div>"
   ]
  },
  {
   "cell_type": "markdown",
   "metadata": {
    "id": "yRozkK0R0P90"
   },
   "source": [
    "# Ejercicio 12\n",
    "\n",
    "Ahora vamos a mostrar el nombre y la edad de todos los usuarios y todas las usuarias que han comprado ropa. Imprime el nombre y la edad en la misma declaración print."
   ]
  },
  {
   "cell_type": "code",
   "execution_count": 18,
   "metadata": {
    "id": "mSIyHq1f0P90"
   },
   "outputs": [
    {
     "name": "stdout",
     "output_type": "stream",
     "text": [
      "kate morgan 24 años\n",
      "samantha smith 29 años\n",
      "maria garcia 33 años\n",
      "lisa wilson 35 años\n",
      "james lee 28 años\n"
     ]
    }
   ],
   "source": [
    "users = [\n",
    "    ['32415', ['mike', 'reed'], 32, ['electronics', 'sport', 'books'],\n",
    "     [894, 213, 173]],\n",
    "    ['31980', ['kate', 'morgan'], 24, ['clothes', 'books'], [439,\n",
    "     390]],\n",
    "    ['32156', ['john', 'doe'], 37, ['electronics', 'home', 'food'],\n",
    "     [459, 120, 99]],\n",
    "    ['32761', ['samantha', 'smith'], 29, ['clothes', 'electronics',\n",
    "     'beauty'], [299, 679, 85]],\n",
    "    ['32984', ['david', 'white'], 41, ['books', 'home', 'sport'], [234,\n",
    "     329, 243]],\n",
    "    ['33001', ['emily', 'brown'], 26, ['beauty', 'home', 'food'], [213,\n",
    "     659, 79]],\n",
    "    ['33767', ['maria', 'garcia'], 33, ['clothes', 'food', 'beauty'],\n",
    "     [499, 189, 63]],\n",
    "    ['33912', ['jose', 'martinez'], 22, ['sport', 'electronics', 'home'\n",
    "     ], [259, 549, 109]],\n",
    "    ['34009', ['lisa', 'wilson'], 35, ['home', 'books', 'clothes'],\n",
    "     [329, 189, 329]],\n",
    "    ['34278', ['james', 'lee'], 28, ['beauty', 'clothes', 'electronics'\n",
    "     ], [189, 299, 579]],\n",
    "    ]\n",
    "\n",
    "for client in users:\n",
    "    user_id, user_name, user_age,shop, spendings = client\n",
    "    if 'clothes'in shop:\n",
    "        print(f\"{user_name[0]} {user_name [1]} {user_age} años\")\n",
    "\n"
   ]
  },
  {
   "cell_type": "markdown",
   "metadata": {},
   "source": [
    "<div class=\"alert alert-block alert-success\">\n",
    "<b>Comentario del revisor</b> <a class=\"tocSkip\"></a>\n",
    "\n",
    "Perfecto. Como consejo podrias crear un f-string para que el resultado sea mas estetico.\n",
    "\n",
    "Algo asi como '*Nombre: Kate, edad 24 años.*'</div>"
   ]
  },
  {
   "cell_type": "markdown",
   "metadata": {
    "id": "Bq0_-hvu0P91"
   },
   "source": [
    "#Escribe aquí cualquier comentario o reflexión final"
   ]
  }
 ],
 "metadata": {
  "ExecuteTimeLog": [
   {
    "duration": 329,
    "start_time": "2024-05-31T19:24:52.332Z"
   },
   {
    "duration": 4,
    "start_time": "2024-05-31T19:30:45.698Z"
   },
   {
    "duration": 22,
    "start_time": "2024-05-31T19:31:48.292Z"
   },
   {
    "duration": 23,
    "start_time": "2024-05-31T19:32:33.650Z"
   },
   {
    "duration": 22,
    "start_time": "2024-05-31T19:33:36.919Z"
   },
   {
    "duration": 21,
    "start_time": "2024-05-31T19:34:38.939Z"
   },
   {
    "duration": 26,
    "start_time": "2024-05-31T19:35:02.318Z"
   },
   {
    "duration": 25,
    "start_time": "2024-05-31T19:35:03.665Z"
   },
   {
    "duration": 5,
    "start_time": "2024-05-31T19:56:34.771Z"
   },
   {
    "duration": 5,
    "start_time": "2024-05-31T19:57:53.351Z"
   },
   {
    "duration": 6,
    "start_time": "2024-05-31T19:58:05.989Z"
   },
   {
    "duration": 5,
    "start_time": "2024-05-31T19:58:15.449Z"
   },
   {
    "duration": 6,
    "start_time": "2024-05-31T19:58:25.882Z"
   },
   {
    "duration": 6,
    "start_time": "2024-05-31T19:58:32.066Z"
   },
   {
    "duration": 6,
    "start_time": "2024-05-31T19:58:45.882Z"
   },
   {
    "duration": 61,
    "start_time": "2024-05-31T19:59:42.455Z"
   },
   {
    "duration": 25,
    "start_time": "2024-05-31T20:00:14.103Z"
   },
   {
    "duration": 25,
    "start_time": "2024-05-31T20:00:16.330Z"
   },
   {
    "duration": 22,
    "start_time": "2024-05-31T20:02:05.248Z"
   },
   {
    "duration": 7,
    "start_time": "2024-05-31T20:03:58.809Z"
   },
   {
    "duration": 12,
    "start_time": "2024-05-31T23:32:15.276Z"
   },
   {
    "duration": 7,
    "start_time": "2024-05-31T23:32:25.347Z"
   },
   {
    "duration": 6,
    "start_time": "2024-05-31T23:32:33.456Z"
   },
   {
    "duration": 316,
    "start_time": "2024-05-31T23:33:38.097Z"
   },
   {
    "duration": 25,
    "start_time": "2024-05-31T23:54:11.444Z"
   },
   {
    "duration": 23,
    "start_time": "2024-05-31T23:55:46.166Z"
   },
   {
    "duration": 5,
    "start_time": "2024-06-01T00:05:19.391Z"
   },
   {
    "duration": 23,
    "start_time": "2024-06-01T00:06:52.837Z"
   },
   {
    "duration": 22,
    "start_time": "2024-06-01T00:07:50.453Z"
   },
   {
    "duration": 6,
    "start_time": "2024-06-01T00:08:05.023Z"
   },
   {
    "duration": 5,
    "start_time": "2024-06-01T00:08:39.342Z"
   },
   {
    "duration": 23,
    "start_time": "2024-06-01T00:15:54.848Z"
   },
   {
    "duration": 25,
    "start_time": "2024-06-01T00:16:20.024Z"
   },
   {
    "duration": 6,
    "start_time": "2024-06-01T00:16:30.217Z"
   },
   {
    "duration": 4,
    "start_time": "2024-06-01T00:18:56.902Z"
   },
   {
    "duration": 57,
    "start_time": "2024-06-01T00:19:24.980Z"
   },
   {
    "duration": 26,
    "start_time": "2024-06-01T00:20:26.381Z"
   },
   {
    "duration": 24,
    "start_time": "2024-06-01T00:21:07.092Z"
   },
   {
    "duration": 23,
    "start_time": "2024-06-01T00:21:49.065Z"
   },
   {
    "duration": 24,
    "start_time": "2024-06-01T00:22:41.456Z"
   },
   {
    "duration": 6,
    "start_time": "2024-06-01T00:23:19.791Z"
   },
   {
    "duration": 23,
    "start_time": "2024-06-01T00:26:02.147Z"
   },
   {
    "duration": 23,
    "start_time": "2024-06-01T00:26:09.351Z"
   },
   {
    "duration": 25,
    "start_time": "2024-06-01T00:26:41.258Z"
   },
   {
    "duration": 7,
    "start_time": "2024-06-01T00:27:25.549Z"
   },
   {
    "duration": 5,
    "start_time": "2024-06-01T00:27:52.423Z"
   },
   {
    "duration": 6,
    "start_time": "2024-06-01T00:28:31.702Z"
   },
   {
    "duration": 4,
    "start_time": "2024-06-01T00:28:37.071Z"
   },
   {
    "duration": 6,
    "start_time": "2024-06-01T00:29:00.605Z"
   },
   {
    "duration": 6,
    "start_time": "2024-06-01T00:31:26.074Z"
   },
   {
    "duration": 5,
    "start_time": "2024-06-01T00:31:40.599Z"
   },
   {
    "duration": 6,
    "start_time": "2024-06-01T00:31:47.952Z"
   },
   {
    "duration": 5,
    "start_time": "2024-06-01T00:32:00.448Z"
   },
   {
    "duration": 5,
    "start_time": "2024-06-01T00:32:04.533Z"
   },
   {
    "duration": 20,
    "start_time": "2024-06-01T00:34:54.202Z"
   },
   {
    "duration": 22,
    "start_time": "2024-06-01T00:35:53.832Z"
   },
   {
    "duration": 23,
    "start_time": "2024-06-01T00:36:04.424Z"
   },
   {
    "duration": 22,
    "start_time": "2024-06-01T00:39:13.064Z"
   },
   {
    "duration": 25,
    "start_time": "2024-06-01T00:40:33.096Z"
   },
   {
    "duration": 28,
    "start_time": "2024-06-01T00:42:54.098Z"
   },
   {
    "duration": 29,
    "start_time": "2024-06-01T00:43:11.339Z"
   },
   {
    "duration": 24,
    "start_time": "2024-06-01T00:43:18.111Z"
   },
   {
    "duration": 6,
    "start_time": "2024-06-01T00:43:33.027Z"
   },
   {
    "duration": 5,
    "start_time": "2024-06-01T00:43:51.311Z"
   },
   {
    "duration": 5,
    "start_time": "2024-06-01T00:44:43.971Z"
   },
   {
    "duration": 6,
    "start_time": "2024-06-01T00:45:15.851Z"
   },
   {
    "duration": 6,
    "start_time": "2024-06-01T00:45:32.309Z"
   },
   {
    "duration": 368,
    "start_time": "2024-06-01T21:34:29.928Z"
   },
   {
    "duration": 24,
    "start_time": "2024-06-01T21:34:57.974Z"
   },
   {
    "duration": 5,
    "start_time": "2024-06-01T21:35:24.196Z"
   },
   {
    "duration": 5,
    "start_time": "2024-06-01T21:38:56.689Z"
   },
   {
    "duration": 11,
    "start_time": "2024-06-02T05:28:35.111Z"
   },
   {
    "duration": 5,
    "start_time": "2024-06-02T05:30:18.881Z"
   },
   {
    "duration": 6,
    "start_time": "2024-06-02T05:31:25.779Z"
   },
   {
    "duration": 7,
    "start_time": "2024-06-02T05:34:27.055Z"
   },
   {
    "duration": 6,
    "start_time": "2024-06-02T05:45:35.153Z"
   },
   {
    "duration": 6,
    "start_time": "2024-06-02T05:45:44.621Z"
   },
   {
    "duration": 8,
    "start_time": "2024-06-02T05:53:19.377Z"
   },
   {
    "duration": 7,
    "start_time": "2024-06-02T05:54:18.820Z"
   },
   {
    "duration": 9,
    "start_time": "2024-06-02T05:55:49.064Z"
   },
   {
    "duration": 310,
    "start_time": "2024-06-02T05:55:59.390Z"
   },
   {
    "duration": 7,
    "start_time": "2024-06-02T05:56:10.514Z"
   },
   {
    "duration": 6,
    "start_time": "2024-06-02T05:57:01.254Z"
   },
   {
    "duration": 6,
    "start_time": "2024-06-02T05:57:20.785Z"
   },
   {
    "duration": 7,
    "start_time": "2024-06-02T05:58:46.144Z"
   },
   {
    "duration": 6,
    "start_time": "2024-06-02T06:00:41.645Z"
   },
   {
    "duration": 6,
    "start_time": "2024-06-02T06:00:50.358Z"
   },
   {
    "duration": 6,
    "start_time": "2024-06-02T06:01:15.666Z"
   },
   {
    "duration": 5,
    "start_time": "2024-06-02T06:03:30.195Z"
   },
   {
    "duration": 6,
    "start_time": "2024-06-02T06:03:47.748Z"
   },
   {
    "duration": 6,
    "start_time": "2024-06-02T06:03:58.092Z"
   },
   {
    "duration": 7,
    "start_time": "2024-06-02T06:03:59.155Z"
   },
   {
    "duration": 28,
    "start_time": "2024-06-02T06:05:06.431Z"
   },
   {
    "duration": 12,
    "start_time": "2024-06-02T06:05:33.359Z"
   },
   {
    "duration": 39,
    "start_time": "2024-06-02T06:09:14.062Z"
   },
   {
    "duration": 78,
    "start_time": "2024-06-02T06:09:27.064Z"
   },
   {
    "duration": 12,
    "start_time": "2024-06-02T06:09:59.260Z"
   },
   {
    "duration": 11,
    "start_time": "2024-06-02T06:10:12.509Z"
   },
   {
    "duration": 12,
    "start_time": "2024-06-02T06:10:36.221Z"
   },
   {
    "duration": 12,
    "start_time": "2024-06-02T06:11:25.858Z"
   },
   {
    "duration": 37,
    "start_time": "2024-06-02T06:16:57.544Z"
   },
   {
    "duration": 39,
    "start_time": "2024-06-02T06:17:29.317Z"
   },
   {
    "duration": 39,
    "start_time": "2024-06-02T06:17:36.254Z"
   },
   {
    "duration": 46,
    "start_time": "2024-06-02T06:17:48.552Z"
   },
   {
    "duration": 13,
    "start_time": "2024-06-02T06:21:10.495Z"
   },
   {
    "duration": 11,
    "start_time": "2024-06-02T06:21:18.637Z"
   },
   {
    "duration": 10,
    "start_time": "2024-06-02T06:21:55.377Z"
   },
   {
    "duration": 12,
    "start_time": "2024-06-02T06:22:24.953Z"
   },
   {
    "duration": 14,
    "start_time": "2024-06-02T06:22:29.771Z"
   },
   {
    "duration": 10,
    "start_time": "2024-06-02T06:22:36.929Z"
   },
   {
    "duration": 11,
    "start_time": "2024-06-02T06:23:19.510Z"
   },
   {
    "duration": 14,
    "start_time": "2024-06-02T06:23:40.894Z"
   },
   {
    "duration": 40,
    "start_time": "2024-06-02T06:26:21.296Z"
   },
   {
    "duration": 11,
    "start_time": "2024-06-02T06:26:34.590Z"
   },
   {
    "duration": 12,
    "start_time": "2024-06-02T06:28:57.768Z"
   },
   {
    "duration": 13,
    "start_time": "2024-06-02T06:29:16.995Z"
   },
   {
    "duration": 11,
    "start_time": "2024-06-02T06:29:31.170Z"
   },
   {
    "duration": 12,
    "start_time": "2024-06-02T06:29:47.226Z"
   },
   {
    "duration": 11,
    "start_time": "2024-06-02T06:32:10.234Z"
   },
   {
    "duration": 12,
    "start_time": "2024-06-02T06:32:36.589Z"
   },
   {
    "duration": 14,
    "start_time": "2024-06-02T06:35:01.748Z"
   },
   {
    "duration": 39,
    "start_time": "2024-06-02T06:35:21.507Z"
   },
   {
    "duration": 39,
    "start_time": "2024-06-02T06:35:29.587Z"
   },
   {
    "duration": 14,
    "start_time": "2024-06-02T06:35:41.782Z"
   },
   {
    "duration": 13,
    "start_time": "2024-06-02T06:36:02.013Z"
   },
   {
    "duration": 12,
    "start_time": "2024-06-02T06:42:13.961Z"
   },
   {
    "duration": 41,
    "start_time": "2024-06-02T06:44:43.473Z"
   },
   {
    "duration": 11,
    "start_time": "2024-06-02T06:46:11.236Z"
   },
   {
    "duration": 11,
    "start_time": "2024-06-02T06:46:21.906Z"
   },
   {
    "duration": 5,
    "start_time": "2024-06-02T06:53:38.961Z"
   },
   {
    "duration": 23,
    "start_time": "2024-06-02T06:56:12.994Z"
   },
   {
    "duration": 22,
    "start_time": "2024-06-02T06:57:10.784Z"
   },
   {
    "duration": 5,
    "start_time": "2024-06-02T06:57:30.263Z"
   },
   {
    "duration": 14,
    "start_time": "2024-06-02T07:02:35.893Z"
   },
   {
    "duration": 13,
    "start_time": "2024-06-02T07:02:48.932Z"
   },
   {
    "duration": 347,
    "start_time": "2024-06-03T17:48:57.415Z"
   },
   {
    "duration": 7,
    "start_time": "2024-06-03T17:52:24.379Z"
   },
   {
    "duration": 41,
    "start_time": "2024-06-03T17:56:42.585Z"
   },
   {
    "duration": 12,
    "start_time": "2024-06-03T17:57:06.792Z"
   },
   {
    "duration": 13,
    "start_time": "2024-06-03T17:59:23.433Z"
   },
   {
    "duration": 17,
    "start_time": "2024-06-03T18:01:45.915Z"
   },
   {
    "duration": 13,
    "start_time": "2024-06-03T18:51:16.985Z"
   },
   {
    "duration": 12,
    "start_time": "2024-06-03T18:51:21.325Z"
   },
   {
    "duration": 12,
    "start_time": "2024-06-03T18:54:32.944Z"
   },
   {
    "duration": 11,
    "start_time": "2024-06-03T18:54:50.361Z"
   },
   {
    "duration": 10,
    "start_time": "2024-06-03T18:54:55.811Z"
   },
   {
    "duration": 12,
    "start_time": "2024-06-03T18:55:04.669Z"
   },
   {
    "duration": 12,
    "start_time": "2024-06-03T18:55:11.154Z"
   },
   {
    "duration": 11,
    "start_time": "2024-06-03T18:55:14.250Z"
   },
   {
    "duration": 42,
    "start_time": "2024-06-03T18:55:23.957Z"
   },
   {
    "duration": 11,
    "start_time": "2024-06-03T18:55:32.062Z"
   },
   {
    "duration": 43,
    "start_time": "2024-06-03T18:56:08.510Z"
   },
   {
    "duration": 12,
    "start_time": "2024-06-03T18:56:23.340Z"
   },
   {
    "duration": 13,
    "start_time": "2024-06-03T23:53:40.024Z"
   },
   {
    "duration": 5,
    "start_time": "2024-06-03T23:53:57.823Z"
   },
   {
    "duration": 307,
    "start_time": "2024-06-03T23:54:09.063Z"
   },
   {
    "duration": 26,
    "start_time": "2024-06-03T23:54:17.399Z"
   },
   {
    "duration": 25,
    "start_time": "2024-06-03T23:54:52.977Z"
   },
   {
    "duration": 10,
    "start_time": "2024-06-03T23:55:04.819Z"
   },
   {
    "duration": 5,
    "start_time": "2024-06-03T23:55:08.115Z"
   },
   {
    "duration": 6,
    "start_time": "2024-06-03T23:56:14.218Z"
   },
   {
    "duration": 17,
    "start_time": "2024-06-04T01:19:30.493Z"
   },
   {
    "duration": 11,
    "start_time": "2024-06-04T01:19:39.488Z"
   },
   {
    "duration": 5,
    "start_time": "2024-06-04T01:24:02.695Z"
   },
   {
    "duration": 11,
    "start_time": "2024-06-04T01:25:01.115Z"
   },
   {
    "duration": 11,
    "start_time": "2024-06-04T01:25:18.151Z"
   },
   {
    "duration": 326,
    "start_time": "2024-06-04T12:23:02.888Z"
   },
   {
    "duration": 11,
    "start_time": "2024-06-04T12:26:22.987Z"
   },
   {
    "duration": 15,
    "start_time": "2024-06-04T12:29:31.960Z"
   },
   {
    "duration": 14,
    "start_time": "2024-06-04T12:29:44.058Z"
   },
   {
    "duration": 12,
    "start_time": "2024-06-04T12:29:49.175Z"
   },
   {
    "duration": 12,
    "start_time": "2024-06-04T12:29:55.817Z"
   },
   {
    "duration": 14,
    "start_time": "2024-06-04T12:30:08.446Z"
   },
   {
    "duration": 12,
    "start_time": "2024-06-04T12:30:16.801Z"
   },
   {
    "duration": 15,
    "start_time": "2024-06-04T17:40:36.614Z"
   },
   {
    "duration": 6,
    "start_time": "2024-06-04T17:40:52.840Z"
   },
   {
    "duration": 5,
    "start_time": "2024-06-04T17:53:51.122Z"
   },
   {
    "duration": 317,
    "start_time": "2024-06-04T17:58:52.603Z"
   }
  ],
  "colab": {
   "provenance": []
  },
  "kernelspec": {
   "display_name": "Python 3 (ipykernel)",
   "language": "python",
   "name": "python3"
  },
  "language_info": {
   "codemirror_mode": {
    "name": "ipython",
    "version": 3
   },
   "file_extension": ".py",
   "mimetype": "text/x-python",
   "name": "python",
   "nbconvert_exporter": "python",
   "pygments_lexer": "ipython3",
   "version": "3.9.19"
  },
  "toc": {
   "base_numbering": 1,
   "nav_menu": {},
   "number_sections": true,
   "sideBar": true,
   "skip_h1_title": true,
   "title_cell": "Table of Contents",
   "title_sidebar": "Contents",
   "toc_cell": false,
   "toc_position": {},
   "toc_section_display": true,
   "toc_window_display": true
  }
 },
 "nbformat": 4,
 "nbformat_minor": 1
}
